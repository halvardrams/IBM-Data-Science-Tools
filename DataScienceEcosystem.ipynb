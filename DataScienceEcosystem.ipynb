{
 "cells": [
  {
   "cell_type": "markdown",
   "id": "b0386ffe-a051-442c-9faa-54588d69eea2",
   "metadata": {},
   "source": [
    "In this notebook, Data Science Tools and Ecosystem are summarized."
   ]
  },
  {
   "cell_type": "markdown",
   "id": "af08d213-4772-4153-ab27-708da182b0a8",
   "metadata": {},
   "source": [
    "# Data Science Tools and Ecosystem"
   ]
  },
  {
   "cell_type": "markdown",
   "id": "e74148ad-0b53-4910-9161-448166cdb7f1",
   "metadata": {},
   "source": [
    "In this notebook, Data Science Tools and Ecosystem are summarized."
   ]
  },
  {
   "cell_type": "markdown",
   "id": "a4b377d8-78ac-4952-98a5-ce99c2cf34ec",
   "metadata": {},
   "source": [
    "Some of the popular languages that Data Scientists use are:"
   ]
  },
  {
   "cell_type": "markdown",
   "id": "a84a1a8f-05b7-42c4-992d-0c512a4c67d2",
   "metadata": {},
   "source": [
    "1. Python\n",
    "2. R\n",
    "3. SQL\n",
    "4. Java"
   ]
  },
  {
   "cell_type": "markdown",
   "id": "5b5517b2-8a93-4a99-9a06-851aab49201a",
   "metadata": {},
   "source": [
    "Some of the commonly used libraries used by Data Scientists include:"
   ]
  },
  {
   "cell_type": "markdown",
   "id": "758d45b0-f983-4df1-8ba4-f80a45d626d2",
   "metadata": {},
   "source": [
    "1. NumPy\n",
    "2. Pandas\n",
    "3. Keras\n",
    "4. Scikit-Learn\n",
    "5. Tensorflow\n",
    "6. PyTorch\n",
    "7. Matplotlib"
   ]
  },
  {
   "cell_type": "markdown",
   "id": "32f7f9ff-1bd9-413a-92e0-5d494f53a4d2",
   "metadata": {},
   "source": [
    "Data Science Tools\n",
    "| Jupyter Notebook |\n",
    "| RStudio          |\n",
    "| Apache Spark     |"
   ]
  },
  {
   "cell_type": "markdown",
   "id": "502ff82b-b99e-4007-8f80-b9feb5dbb0fe",
   "metadata": {},
   "source": [
    "### Below are a few examples of evaluating arithmetic expressions in Python"
   ]
  },
  {
   "cell_type": "code",
   "execution_count": null,
   "id": "5c91194e-2d93-485e-9b05-5c1a1d6ba6ba",
   "metadata": {},
   "outputs": [
    {
     "data": {
      "text/plain": [
       "17"
      ]
     },
     "execution_count": 3,
     "metadata": {},
     "output_type": "execute_result"
    }
   ],
   "source": [
    "# This a simple arithmetic expression to mutiply then add integers\n",
    "(3*4)+5"
   ]
  },
  {
   "cell_type": "code",
   "execution_count": 4,
   "id": "97ec552e-329d-4a58-abdb-27504df6332b",
   "metadata": {},
   "outputs": [
    {
     "data": {
      "text/plain": [
       "3.3333333333333335"
      ]
     },
     "execution_count": 4,
     "metadata": {},
     "output_type": "execute_result"
    }
   ],
   "source": [
    "# This will convert 200 minutes to hours by diving by 60\n",
    "200/60"
   ]
  },
  {
   "cell_type": "markdown",
   "id": "bf671006-6254-466a-b612-4fb29c02a5fb",
   "metadata": {},
   "source": [
    "# Objectives\n",
    "- List popular languages for Data Science\n",
    "- How to write a comment in Jupyter\n",
    "- How to write arithmetic expressions\n",
    "- List common used libraries for Data Science"
   ]
  },
  {
   "cell_type": "markdown",
   "id": "8f0ac21a-fab1-4579-ac1a-9338fee2d477",
   "metadata": {},
   "source": [
    "## Author\n",
    "Halvard"
   ]
  }
 ],
 "metadata": {
  "kernelspec": {
   "display_name": "Python 3 (ipykernel)",
   "language": "python",
   "name": "python3"
  },
  "language_info": {
   "codemirror_mode": {
    "name": "ipython",
    "version": 3
   },
   "file_extension": ".py",
   "mimetype": "text/x-python",
   "name": "python",
   "nbconvert_exporter": "python",
   "pygments_lexer": "ipython3",
   "version": "3.10.9"
  }
 },
 "nbformat": 4,
 "nbformat_minor": 5
}
